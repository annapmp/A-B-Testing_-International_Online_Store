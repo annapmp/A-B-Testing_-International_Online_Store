{
 "cells": [
  {
   "cell_type": "markdown",
   "metadata": {},
   "source": [
    "## Task\n",
    "You've received an analytical task from an international online store. Your predecessor failed to complete it: they launched an A/B test and then quit (to start a watermelon farm in Brazil). They left only the technical specifications and the test results.\n",
    "\n",
    "## Technical description\n",
    "\n",
    "Test name: interface_eu_test<br>\n",
    "Groups: А (control), B (new payment funnel)<br>\n",
    "Launch date: 2020-12-07<br>\n",
    "Date when they stopped taking up new users: 2020-12-30<br>\n",
    "End date: 2021-01-01<br>\n",
    "Audience: 15% of the new users from the EU region<br>\n",
    "Purpose of the test: testing changes related to the introduction of an improved recommendation system<br>\n",
    "Expected result: within 14 days of signing up, users will show better conversion into product page views (the product_page event), instances of adding items to the shopping cart (product_cart), and purchases (purchase). At each stage of the funnel product_page → product_cart → purchase, there will be at least a 10% increase.<br>\n",
    "Expected number of test participants: 6000<br>"
   ]
  },
  {
   "cell_type": "markdown",
   "metadata": {},
   "source": [
    "## Description of the data\n",
    "\n",
    "ab_project_marketing_events_us.csv — the calendar of marketing events for 2020<br>\n",
    "final_ab_new_users_us.csv — all users who signed up in the online store from December 7 to 30, 2020<br>\n",
    "final_ab_events_us.csv — all events of the new users within the period from December 7, 2020 through January 1, 2021<br>\n",
    "final_ab_participants_us.csv — table containing test participants<br>\n",
    "\n",
    "**Structure of `ab_project__marketing_events_us.csv`:**<br>\n",
    "`name` — the name of the marketing event<br>\n",
    "`regions` — regions where the ad campaign will be held<br>\n",
    "`start_dt` — campaign start date<br>\n",
    "`finish_dt` — campaign end date<br>\n",
    "\n",
    "**Structure of `final_ab_new_users_us.csv`:**<br>\n",
    "`user_id`<br>\n",
    "`first_date` — sign-up date<br>\n",
    "`region`<br>\n",
    "`device` — device used to sign up<br>\n",
    "\n",
    "**Structure of `final_ab_events_us.csv`:**<br>\n",
    "`user_id`<br>\n",
    "`event_dt` — event date and time<br>\n",
    "`event_name` — event type name<br>\n",
    "`details` — additional data on the event (for instance, the order total in USD for purchase events)<br>\n",
    "\n",
    "**Structure of `final_ab_participants_us.csv`:**<br>\n",
    "`user_id`<br>\n",
    "`ab_test` — test name<br>\n",
    "`group` — the test group the user belonged to"
   ]
  },
  {
   "cell_type": "markdown",
   "metadata": {},
   "source": [
    "## Table of contents\n",
    "\n",
    "- [Explore the data](#explore)\n",
    "- [Exploratory data analysis](#eda)\n",
    "- [Study conversion at different stages of the funnel](#funnel)\n",
    "- [Is the number of events per user distributed equally among the samples](#samples)\n",
    "- [Are there users who are present in both samples](#check)\n",
    "- [How is the number of events distributed among days](#days)\n",
    "- [Are there any peculiarities in the data](#perc)\n",
    "- [Use a z-test to check the statistical difference between the proportions.](#test)\n",
    "- [Conclusions regarding the EDA stage and the A/B test results](#conclusion)"
   ]
  },
  {
   "cell_type": "markdown",
   "metadata": {},
   "source": [
    "<a id='explore'></a>"
   ]
  },
  {
   "cell_type": "markdown",
   "metadata": {},
   "source": [
    "**Explore the data**"
   ]
  },
  {
   "cell_type": "markdown",
   "metadata": {},
   "source": [
    "Import libraries"
   ]
  },
  {
   "cell_type": "code",
   "execution_count": 1,
   "metadata": {},
   "outputs": [],
   "source": [
    "import pandas as pd\n",
    "import numpy as np\n",
    "import plotly.express as px\n",
    "import plotly.graph_objects as go\n",
    "import matplotlib.pyplot as plt\n",
    "import seaborn as sns\n",
    "import datetime as dt\n",
    "import scipy.stats as stats\n",
    "from pandas.core.reshape.concat import concat\n",
    "import math\n",
    "from scipy import stats as st"
   ]
  },
  {
   "cell_type": "markdown",
   "metadata": {},
   "source": [
    "Import files"
   ]
  },
  {
   "cell_type": "code",
   "execution_count": 2,
   "metadata": {},
   "outputs": [
    {
     "data": {
      "text/html": [
       "<div>\n",
       "<style scoped>\n",
       "    .dataframe tbody tr th:only-of-type {\n",
       "        vertical-align: middle;\n",
       "    }\n",
       "\n",
       "    .dataframe tbody tr th {\n",
       "        vertical-align: top;\n",
       "    }\n",
       "\n",
       "    .dataframe thead th {\n",
       "        text-align: right;\n",
       "    }\n",
       "</style>\n",
       "<table border=\"1\" class=\"dataframe\">\n",
       "  <thead>\n",
       "    <tr style=\"text-align: right;\">\n",
       "      <th></th>\n",
       "      <th>name</th>\n",
       "      <th>regions</th>\n",
       "      <th>start_dt</th>\n",
       "      <th>finish_dt</th>\n",
       "    </tr>\n",
       "  </thead>\n",
       "  <tbody>\n",
       "    <tr>\n",
       "      <th>0</th>\n",
       "      <td>Christmas&amp;New Year Promo</td>\n",
       "      <td>EU, N.America</td>\n",
       "      <td>2020-12-25</td>\n",
       "      <td>2021-01-03</td>\n",
       "    </tr>\n",
       "    <tr>\n",
       "      <th>1</th>\n",
       "      <td>St. Valentine's Day Giveaway</td>\n",
       "      <td>EU, CIS, APAC, N.America</td>\n",
       "      <td>2020-02-14</td>\n",
       "      <td>2020-02-16</td>\n",
       "    </tr>\n",
       "  </tbody>\n",
       "</table>\n",
       "</div>"
      ],
      "text/plain": [
       "                           name                   regions    start_dt  \\\n",
       "0      Christmas&New Year Promo             EU, N.America  2020-12-25   \n",
       "1  St. Valentine's Day Giveaway  EU, CIS, APAC, N.America  2020-02-14   \n",
       "\n",
       "    finish_dt  \n",
       "0  2021-01-03  \n",
       "1  2020-02-16  "
      ]
     },
     "execution_count": 2,
     "metadata": {},
     "output_type": "execute_result"
    }
   ],
   "source": [
    "LOCAL_PATH = 'C:/Users/anna/Desktop/Y-data/Grad Project/AB test/ab_project_marketing_events_us.csv'\n",
    "PLATFORM_PATH = '/datasets/ab_project_marketing_events_us.csv'\n",
    "try:\n",
    "    df_mark_event = pd.read_csv(LOCAL_PATH)\n",
    "except:\n",
    "    df_mark_event = pd.read_csv(PLATFORM_PATH)\n",
    "    \n",
    "df_mark_event.head(2)"
   ]
  },
  {
   "cell_type": "code",
   "execution_count": 3,
   "metadata": {},
   "outputs": [
    {
     "data": {
      "text/html": [
       "<div>\n",
       "<style scoped>\n",
       "    .dataframe tbody tr th:only-of-type {\n",
       "        vertical-align: middle;\n",
       "    }\n",
       "\n",
       "    .dataframe tbody tr th {\n",
       "        vertical-align: top;\n",
       "    }\n",
       "\n",
       "    .dataframe thead th {\n",
       "        text-align: right;\n",
       "    }\n",
       "</style>\n",
       "<table border=\"1\" class=\"dataframe\">\n",
       "  <thead>\n",
       "    <tr style=\"text-align: right;\">\n",
       "      <th></th>\n",
       "      <th>user_id</th>\n",
       "      <th>first_date</th>\n",
       "      <th>region</th>\n",
       "      <th>device</th>\n",
       "    </tr>\n",
       "  </thead>\n",
       "  <tbody>\n",
       "    <tr>\n",
       "      <th>0</th>\n",
       "      <td>D72A72121175D8BE</td>\n",
       "      <td>2020-12-07</td>\n",
       "      <td>EU</td>\n",
       "      <td>PC</td>\n",
       "    </tr>\n",
       "    <tr>\n",
       "      <th>1</th>\n",
       "      <td>F1C668619DFE6E65</td>\n",
       "      <td>2020-12-07</td>\n",
       "      <td>N.America</td>\n",
       "      <td>Android</td>\n",
       "    </tr>\n",
       "  </tbody>\n",
       "</table>\n",
       "</div>"
      ],
      "text/plain": [
       "            user_id  first_date     region   device\n",
       "0  D72A72121175D8BE  2020-12-07         EU       PC\n",
       "1  F1C668619DFE6E65  2020-12-07  N.America  Android"
      ]
     },
     "execution_count": 3,
     "metadata": {},
     "output_type": "execute_result"
    }
   ],
   "source": [
    "LOCAL_PATH = 'C:/Users/anna/Desktop/Y-data/Grad Project/AB test/final_ab_new_users_us.csv'\n",
    "PLATFORM_PATH = '/datasets/final_ab_new_users_us.csv'\n",
    "try:\n",
    "    df_new_users = pd.read_csv(LOCAL_PATH)\n",
    "except:\n",
    "    df_new_users = pd.read_csv(PLATFORM_PATH)\n",
    "    \n",
    "df_new_users.head(2)"
   ]
  },
  {
   "cell_type": "code",
   "execution_count": 4,
   "metadata": {},
   "outputs": [
    {
     "data": {
      "text/html": [
       "<div>\n",
       "<style scoped>\n",
       "    .dataframe tbody tr th:only-of-type {\n",
       "        vertical-align: middle;\n",
       "    }\n",
       "\n",
       "    .dataframe tbody tr th {\n",
       "        vertical-align: top;\n",
       "    }\n",
       "\n",
       "    .dataframe thead th {\n",
       "        text-align: right;\n",
       "    }\n",
       "</style>\n",
       "<table border=\"1\" class=\"dataframe\">\n",
       "  <thead>\n",
       "    <tr style=\"text-align: right;\">\n",
       "      <th></th>\n",
       "      <th>user_id</th>\n",
       "      <th>event_dt</th>\n",
       "      <th>event_name</th>\n",
       "      <th>details</th>\n",
       "    </tr>\n",
       "  </thead>\n",
       "  <tbody>\n",
       "    <tr>\n",
       "      <th>0</th>\n",
       "      <td>E1BDDCE0DAFA2679</td>\n",
       "      <td>2020-12-07 20:22:03</td>\n",
       "      <td>purchase</td>\n",
       "      <td>99.99</td>\n",
       "    </tr>\n",
       "    <tr>\n",
       "      <th>1</th>\n",
       "      <td>7B6452F081F49504</td>\n",
       "      <td>2020-12-07 09:22:53</td>\n",
       "      <td>purchase</td>\n",
       "      <td>9.99</td>\n",
       "    </tr>\n",
       "  </tbody>\n",
       "</table>\n",
       "</div>"
      ],
      "text/plain": [
       "            user_id             event_dt event_name  details\n",
       "0  E1BDDCE0DAFA2679  2020-12-07 20:22:03   purchase    99.99\n",
       "1  7B6452F081F49504  2020-12-07 09:22:53   purchase     9.99"
      ]
     },
     "execution_count": 4,
     "metadata": {},
     "output_type": "execute_result"
    }
   ],
   "source": [
    "LOCAL_PATH = 'C:/Users/anna/Desktop/Y-data/Grad Project/AB test/final_ab_events_us.csv'\n",
    "PLATFORM_PATH = '/datasets/final_ab_events_us.csv'\n",
    "try:\n",
    "    df_ab_events = pd.read_csv(LOCAL_PATH)\n",
    "except:\n",
    "    df_ab_events = pd.read_csv(PLATFORM_PATH)\n",
    "    \n",
    "df_ab_events.head(2)"
   ]
  },
  {
   "cell_type": "code",
   "execution_count": 5,
   "metadata": {},
   "outputs": [
    {
     "data": {
      "text/html": [
       "<div>\n",
       "<style scoped>\n",
       "    .dataframe tbody tr th:only-of-type {\n",
       "        vertical-align: middle;\n",
       "    }\n",
       "\n",
       "    .dataframe tbody tr th {\n",
       "        vertical-align: top;\n",
       "    }\n",
       "\n",
       "    .dataframe thead th {\n",
       "        text-align: right;\n",
       "    }\n",
       "</style>\n",
       "<table border=\"1\" class=\"dataframe\">\n",
       "  <thead>\n",
       "    <tr style=\"text-align: right;\">\n",
       "      <th></th>\n",
       "      <th>user_id</th>\n",
       "      <th>group</th>\n",
       "      <th>ab_test</th>\n",
       "    </tr>\n",
       "  </thead>\n",
       "  <tbody>\n",
       "    <tr>\n",
       "      <th>0</th>\n",
       "      <td>D1ABA3E2887B6A73</td>\n",
       "      <td>A</td>\n",
       "      <td>recommender_system_test</td>\n",
       "    </tr>\n",
       "    <tr>\n",
       "      <th>1</th>\n",
       "      <td>A7A3664BD6242119</td>\n",
       "      <td>A</td>\n",
       "      <td>recommender_system_test</td>\n",
       "    </tr>\n",
       "  </tbody>\n",
       "</table>\n",
       "</div>"
      ],
      "text/plain": [
       "            user_id group                  ab_test\n",
       "0  D1ABA3E2887B6A73     A  recommender_system_test\n",
       "1  A7A3664BD6242119     A  recommender_system_test"
      ]
     },
     "execution_count": 5,
     "metadata": {},
     "output_type": "execute_result"
    }
   ],
   "source": [
    "LOCAL_PATH = 'C:/Users/anna/Desktop/Y-data/Grad Project/AB test/final_ab_participants_us.csv'\n",
    "PLATFORM_PATH = '/datasets/final_ab_participants_us.csv'\n",
    "try:\n",
    "    df_ab_part = pd.read_csv(LOCAL_PATH)\n",
    "except:\n",
    "    df_ab_part = pd.read_csv(PLATFORM_PATH)\n",
    "    \n",
    "df_ab_part.head(2)"
   ]
  },
  {
   "cell_type": "markdown",
   "metadata": {},
   "source": [
    "Find the number of rows in the datasets"
   ]
  },
  {
   "cell_type": "code",
   "execution_count": 6,
   "metadata": {},
   "outputs": [
    {
     "name": "stdout",
     "output_type": "stream",
     "text": [
      "The number of rows in the marketing events dataset is 14\n",
      "The number of rows in the new users dataset is 61733\n",
      "The number of rows in the ab events dataset is 440317\n",
      "The number of rows in the ab participants dataset is 18268\n"
     ]
    }
   ],
   "source": [
    "print('The number of rows in the marketing events dataset is {}'.format(df_mark_event.shape[0]))\n",
    "print('The number of rows in the new users dataset is {}'.format(df_new_users.shape[0]))\n",
    "print('The number of rows in the ab events dataset is {}'.format(df_ab_events.shape[0]))\n",
    "print('The number of rows in the ab participants dataset is {}'.format(df_ab_part.shape[0]))"
   ]
  },
  {
   "cell_type": "markdown",
   "metadata": {},
   "source": [
    "The number of unique users in the dataset"
   ]
  },
  {
   "cell_type": "code",
   "execution_count": 7,
   "metadata": {},
   "outputs": [
    {
     "name": "stdout",
     "output_type": "stream",
     "text": [
      "The number of unique users is 61733\n"
     ]
    }
   ],
   "source": [
    "print('The number of unique users is {}'.format(df_new_users.user_id.nunique()))"
   ]
  },
  {
   "cell_type": "code",
   "execution_count": 8,
   "metadata": {
    "scrolled": true
   },
   "outputs": [
    {
     "name": "stdout",
     "output_type": "stream",
     "text": [
      "The number of unique users is 58703\n"
     ]
    }
   ],
   "source": [
    "print('The number of unique users is {}'.format(df_ab_events.user_id.nunique()))"
   ]
  },
  {
   "cell_type": "markdown",
   "metadata": {},
   "source": [
    "We see that 3000 users are missing in the events table. Users that exist in participant table didn't get into events table, most likely because they were assigned to the test, but didn't do any actions."
   ]
  },
  {
   "cell_type": "markdown",
   "metadata": {},
   "source": [
    "Checking is there any data types that need to be converted"
   ]
  },
  {
   "cell_type": "code",
   "execution_count": 9,
   "metadata": {},
   "outputs": [
    {
     "name": "stdout",
     "output_type": "stream",
     "text": [
      "<class 'pandas.core.frame.DataFrame'>\n",
      "RangeIndex: 14 entries, 0 to 13\n",
      "Data columns (total 4 columns):\n",
      " #   Column     Non-Null Count  Dtype \n",
      "---  ------     --------------  ----- \n",
      " 0   name       14 non-null     object\n",
      " 1   regions    14 non-null     object\n",
      " 2   start_dt   14 non-null     object\n",
      " 3   finish_dt  14 non-null     object\n",
      "dtypes: object(4)\n",
      "memory usage: 576.0+ bytes\n"
     ]
    }
   ],
   "source": [
    "df_mark_event.info()"
   ]
  },
  {
   "cell_type": "markdown",
   "metadata": {},
   "source": [
    "I'll convert dates to datetime format"
   ]
  },
  {
   "cell_type": "code",
   "execution_count": 10,
   "metadata": {},
   "outputs": [],
   "source": [
    "df_mark_event['start_dt'] = pd.to_datetime(df_mark_event['start_dt'], format= '%Y/%m/%d')\n",
    "df_mark_event['finish_dt'] = pd.to_datetime(df_mark_event['finish_dt'], format= '%Y/%m/%d')"
   ]
  },
  {
   "cell_type": "code",
   "execution_count": 11,
   "metadata": {
    "scrolled": true
   },
   "outputs": [
    {
     "name": "stdout",
     "output_type": "stream",
     "text": [
      "<class 'pandas.core.frame.DataFrame'>\n",
      "RangeIndex: 61733 entries, 0 to 61732\n",
      "Data columns (total 4 columns):\n",
      " #   Column      Non-Null Count  Dtype \n",
      "---  ------      --------------  ----- \n",
      " 0   user_id     61733 non-null  object\n",
      " 1   first_date  61733 non-null  object\n",
      " 2   region      61733 non-null  object\n",
      " 3   device      61733 non-null  object\n",
      "dtypes: object(4)\n",
      "memory usage: 1.9+ MB\n"
     ]
    }
   ],
   "source": [
    "df_new_users.info()"
   ]
  },
  {
   "cell_type": "code",
   "execution_count": 12,
   "metadata": {},
   "outputs": [],
   "source": [
    "#converting to datetime format\n",
    "df_new_users['first_date'] = pd.to_datetime(df_new_users['first_date'], format= '%Y/%m/%d')"
   ]
  },
  {
   "cell_type": "code",
   "execution_count": 13,
   "metadata": {
    "scrolled": true
   },
   "outputs": [
    {
     "name": "stdout",
     "output_type": "stream",
     "text": [
      "<class 'pandas.core.frame.DataFrame'>\n",
      "RangeIndex: 440317 entries, 0 to 440316\n",
      "Data columns (total 4 columns):\n",
      " #   Column      Non-Null Count   Dtype  \n",
      "---  ------      --------------   -----  \n",
      " 0   user_id     440317 non-null  object \n",
      " 1   event_dt    440317 non-null  object \n",
      " 2   event_name  440317 non-null  object \n",
      " 3   details     62740 non-null   float64\n",
      "dtypes: float64(1), object(3)\n",
      "memory usage: 13.4+ MB\n"
     ]
    }
   ],
   "source": [
    "df_ab_events.info()"
   ]
  },
  {
   "cell_type": "code",
   "execution_count": 14,
   "metadata": {},
   "outputs": [],
   "source": [
    "#converting to datetime format\n",
    "df_ab_events['event_dt'] = df_ab_events['event_dt'].astype('datetime64[ns]')"
   ]
  },
  {
   "cell_type": "code",
   "execution_count": 15,
   "metadata": {},
   "outputs": [
    {
     "name": "stdout",
     "output_type": "stream",
     "text": [
      "<class 'pandas.core.frame.DataFrame'>\n",
      "RangeIndex: 18268 entries, 0 to 18267\n",
      "Data columns (total 3 columns):\n",
      " #   Column   Non-Null Count  Dtype \n",
      "---  ------   --------------  ----- \n",
      " 0   user_id  18268 non-null  object\n",
      " 1   group    18268 non-null  object\n",
      " 2   ab_test  18268 non-null  object\n",
      "dtypes: object(3)\n",
      "memory usage: 428.3+ KB\n"
     ]
    }
   ],
   "source": [
    "df_ab_part.info()"
   ]
  },
  {
   "cell_type": "markdown",
   "metadata": {},
   "source": [
    "Do any of the rows have missing values?"
   ]
  },
  {
   "cell_type": "code",
   "execution_count": 16,
   "metadata": {
    "scrolled": true
   },
   "outputs": [
    {
     "name": "stdout",
     "output_type": "stream",
     "text": [
      "There are 0 missing values in marketing events data.\n",
      "There are 0 missing values in new users data.\n",
      "There are 1 missing values in ab events data.\n",
      "There are 0 missing values in ab participants data.\n"
     ]
    }
   ],
   "source": [
    "print('There are {} missing values in marketing events data.'.format(df_mark_event.isnull().any().sum()))\n",
    "print('There are {} missing values in new users data.'.format(df_new_users.isnull().any().sum()))\n",
    "print('There are {} missing values in ab events data.'.format(df_ab_events.isnull().any().sum()))\n",
    "print('There are {} missing values in ab participants data.'.format(df_ab_part.isnull().any().sum()))"
   ]
  },
  {
   "cell_type": "markdown",
   "metadata": {},
   "source": [
    "Theres only 1 missing value in ab events data, we can neglect it."
   ]
  },
  {
   "cell_type": "markdown",
   "metadata": {},
   "source": [
    "Cheking the dublicates"
   ]
  },
  {
   "cell_type": "code",
   "execution_count": 17,
   "metadata": {
    "scrolled": true
   },
   "outputs": [
    {
     "name": "stdout",
     "output_type": "stream",
     "text": [
      "There are 0 dublicated values in marketing events data.\n",
      "There are 0 dublicated values in new users data.\n",
      "There are 0 dublicated values in ab events data.\n",
      "There are 0 dublicated values in ab participants data.\n"
     ]
    }
   ],
   "source": [
    "print('There are {} dublicated values in marketing events data.'.format(df_mark_event.duplicated().sum()))\n",
    "print('There are {} dublicated values in new users data.'.format(df_new_users.duplicated().sum()))\n",
    "print('There are {} dublicated values in ab events data.'.format(df_ab_events.duplicated().sum()))\n",
    "print('There are {} dublicated values in ab participants data.'.format(df_ab_part.duplicated().sum()))"
   ]
  },
  {
   "cell_type": "markdown",
   "metadata": {},
   "source": [
    "What period of time does the data for all events of the new users cover?"
   ]
  },
  {
   "cell_type": "code",
   "execution_count": 18,
   "metadata": {
    "scrolled": true
   },
   "outputs": [
    {
     "name": "stdout",
     "output_type": "stream",
     "text": [
      "2020-12-07 00:00:33\n",
      "2020-12-30 23:36:33\n"
     ]
    }
   ],
   "source": [
    "print(df_ab_events.event_dt.min())\n",
    "print(df_ab_events.event_dt.max())"
   ]
  },
  {
   "cell_type": "markdown",
   "metadata": {},
   "source": [
    "<a id='eda'></a>"
   ]
  },
  {
   "cell_type": "markdown",
   "metadata": {},
   "source": [
    "**Exploratory data analysis**"
   ]
  },
  {
   "cell_type": "markdown",
   "metadata": {},
   "source": [
    "As we are going to work with `interface_eu_test` I'll create new dataframe, which contains only this test results."
   ]
  },
  {
   "cell_type": "code",
   "execution_count": 19,
   "metadata": {},
   "outputs": [
    {
     "data": {
      "text/html": [
       "<div>\n",
       "<style scoped>\n",
       "    .dataframe tbody tr th:only-of-type {\n",
       "        vertical-align: middle;\n",
       "    }\n",
       "\n",
       "    .dataframe tbody tr th {\n",
       "        vertical-align: top;\n",
       "    }\n",
       "\n",
       "    .dataframe thead th {\n",
       "        text-align: right;\n",
       "    }\n",
       "</style>\n",
       "<table border=\"1\" class=\"dataframe\">\n",
       "  <thead>\n",
       "    <tr style=\"text-align: right;\">\n",
       "      <th></th>\n",
       "      <th>user_id</th>\n",
       "      <th>group</th>\n",
       "      <th>ab_test</th>\n",
       "    </tr>\n",
       "  </thead>\n",
       "  <tbody>\n",
       "    <tr>\n",
       "      <th>0</th>\n",
       "      <td>D1ABA3E2887B6A73</td>\n",
       "      <td>A</td>\n",
       "      <td>recommender_system_test</td>\n",
       "    </tr>\n",
       "    <tr>\n",
       "      <th>1</th>\n",
       "      <td>A7A3664BD6242119</td>\n",
       "      <td>A</td>\n",
       "      <td>recommender_system_test</td>\n",
       "    </tr>\n",
       "  </tbody>\n",
       "</table>\n",
       "</div>"
      ],
      "text/plain": [
       "            user_id group                  ab_test\n",
       "0  D1ABA3E2887B6A73     A  recommender_system_test\n",
       "1  A7A3664BD6242119     A  recommender_system_test"
      ]
     },
     "execution_count": 19,
     "metadata": {},
     "output_type": "execute_result"
    }
   ],
   "source": [
    "df_ab_part.head(2)"
   ]
  },
  {
   "cell_type": "code",
   "execution_count": 20,
   "metadata": {},
   "outputs": [
    {
     "data": {
      "text/plain": [
       "interface_eu_test          11567\n",
       "recommender_system_test     6701\n",
       "Name: ab_test, dtype: int64"
      ]
     },
     "execution_count": 20,
     "metadata": {},
     "output_type": "execute_result"
    }
   ],
   "source": [
    "df_ab_part.ab_test.value_counts()"
   ]
  },
  {
   "cell_type": "code",
   "execution_count": 21,
   "metadata": {},
   "outputs": [
    {
     "data": {
      "text/plain": [
       "11567"
      ]
     },
     "execution_count": 21,
     "metadata": {},
     "output_type": "execute_result"
    }
   ],
   "source": [
    "df_eu_test = df_ab_part.query('ab_test == \"interface_eu_test\"')\n",
    "df_eu_test.shape[0]"
   ]
  },
  {
   "cell_type": "code",
   "execution_count": 22,
   "metadata": {
    "scrolled": false
   },
   "outputs": [
    {
     "data": {
      "text/plain": [
       "A    5831\n",
       "B    5736\n",
       "Name: group, dtype: int64"
      ]
     },
     "execution_count": 22,
     "metadata": {},
     "output_type": "execute_result"
    }
   ],
   "source": [
    "#cheking the number of users in each group\n",
    "df_eu_test.group.value_counts()"
   ]
  },
  {
   "cell_type": "markdown",
   "metadata": {},
   "source": [
    "See what events are in the logs and their frequency of occurrence. Sort them by frequency."
   ]
  },
  {
   "cell_type": "code",
   "execution_count": 23,
   "metadata": {},
   "outputs": [
    {
     "data": {
      "text/plain": [
       "login           189552\n",
       "product_page    125563\n",
       "purchase         62740\n",
       "product_cart     62462\n",
       "Name: event_name, dtype: int64"
      ]
     },
     "execution_count": 23,
     "metadata": {},
     "output_type": "execute_result"
    }
   ],
   "source": [
    "df_ab_events.event_name.value_counts()"
   ]
  },
  {
   "cell_type": "markdown",
   "metadata": {},
   "source": [
    "<a id='funnel'></a>"
   ]
  },
  {
   "cell_type": "markdown",
   "metadata": {},
   "source": [
    "**Study conversion at different stages of the funnel**"
   ]
  },
  {
   "cell_type": "code",
   "execution_count": 24,
   "metadata": {
    "scrolled": false
   },
   "outputs": [
    {
     "data": {
      "text/html": [
       "<div>\n",
       "<style scoped>\n",
       "    .dataframe tbody tr th:only-of-type {\n",
       "        vertical-align: middle;\n",
       "    }\n",
       "\n",
       "    .dataframe tbody tr th {\n",
       "        vertical-align: top;\n",
       "    }\n",
       "\n",
       "    .dataframe thead th {\n",
       "        text-align: right;\n",
       "    }\n",
       "</style>\n",
       "<table border=\"1\" class=\"dataframe\">\n",
       "  <thead>\n",
       "    <tr style=\"text-align: right;\">\n",
       "      <th></th>\n",
       "      <th>user_id</th>\n",
       "      <th>group</th>\n",
       "      <th>ab_test</th>\n",
       "    </tr>\n",
       "  </thead>\n",
       "  <tbody>\n",
       "    <tr>\n",
       "      <th>6701</th>\n",
       "      <td>D4E530F6595A05A3</td>\n",
       "      <td>A</td>\n",
       "      <td>interface_eu_test</td>\n",
       "    </tr>\n",
       "    <tr>\n",
       "      <th>6702</th>\n",
       "      <td>773ECB64E45DEBAB</td>\n",
       "      <td>A</td>\n",
       "      <td>interface_eu_test</td>\n",
       "    </tr>\n",
       "    <tr>\n",
       "      <th>6703</th>\n",
       "      <td>6BCB0F33D3BAB8C2</td>\n",
       "      <td>A</td>\n",
       "      <td>interface_eu_test</td>\n",
       "    </tr>\n",
       "    <tr>\n",
       "      <th>6704</th>\n",
       "      <td>AABA4219186465C9</td>\n",
       "      <td>A</td>\n",
       "      <td>interface_eu_test</td>\n",
       "    </tr>\n",
       "    <tr>\n",
       "      <th>6705</th>\n",
       "      <td>2BA8FA8754D1FE50</td>\n",
       "      <td>B</td>\n",
       "      <td>interface_eu_test</td>\n",
       "    </tr>\n",
       "  </tbody>\n",
       "</table>\n",
       "</div>"
      ],
      "text/plain": [
       "               user_id group            ab_test\n",
       "6701  D4E530F6595A05A3     A  interface_eu_test\n",
       "6702  773ECB64E45DEBAB     A  interface_eu_test\n",
       "6703  6BCB0F33D3BAB8C2     A  interface_eu_test\n",
       "6704  AABA4219186465C9     A  interface_eu_test\n",
       "6705  2BA8FA8754D1FE50     B  interface_eu_test"
      ]
     },
     "execution_count": 24,
     "metadata": {},
     "output_type": "execute_result"
    }
   ],
   "source": [
    "df_eu_test.head()"
   ]
  },
  {
   "cell_type": "code",
   "execution_count": 25,
   "metadata": {},
   "outputs": [
    {
     "data": {
      "text/html": [
       "<div>\n",
       "<style scoped>\n",
       "    .dataframe tbody tr th:only-of-type {\n",
       "        vertical-align: middle;\n",
       "    }\n",
       "\n",
       "    .dataframe tbody tr th {\n",
       "        vertical-align: top;\n",
       "    }\n",
       "\n",
       "    .dataframe thead th {\n",
       "        text-align: right;\n",
       "    }\n",
       "</style>\n",
       "<table border=\"1\" class=\"dataframe\">\n",
       "  <thead>\n",
       "    <tr style=\"text-align: right;\">\n",
       "      <th></th>\n",
       "      <th>user_id</th>\n",
       "      <th>group</th>\n",
       "      <th>ab_test</th>\n",
       "    </tr>\n",
       "  </thead>\n",
       "  <tbody>\n",
       "    <tr>\n",
       "      <th>6701</th>\n",
       "      <td>D4E530F6595A05A3</td>\n",
       "      <td>A</td>\n",
       "      <td>interface_eu_test</td>\n",
       "    </tr>\n",
       "    <tr>\n",
       "      <th>6702</th>\n",
       "      <td>773ECB64E45DEBAB</td>\n",
       "      <td>A</td>\n",
       "      <td>interface_eu_test</td>\n",
       "    </tr>\n",
       "    <tr>\n",
       "      <th>6703</th>\n",
       "      <td>6BCB0F33D3BAB8C2</td>\n",
       "      <td>A</td>\n",
       "      <td>interface_eu_test</td>\n",
       "    </tr>\n",
       "    <tr>\n",
       "      <th>6704</th>\n",
       "      <td>AABA4219186465C9</td>\n",
       "      <td>A</td>\n",
       "      <td>interface_eu_test</td>\n",
       "    </tr>\n",
       "    <tr>\n",
       "      <th>6705</th>\n",
       "      <td>2BA8FA8754D1FE50</td>\n",
       "      <td>B</td>\n",
       "      <td>interface_eu_test</td>\n",
       "    </tr>\n",
       "  </tbody>\n",
       "</table>\n",
       "</div>"
      ],
      "text/plain": [
       "               user_id group            ab_test\n",
       "6701  D4E530F6595A05A3     A  interface_eu_test\n",
       "6702  773ECB64E45DEBAB     A  interface_eu_test\n",
       "6703  6BCB0F33D3BAB8C2     A  interface_eu_test\n",
       "6704  AABA4219186465C9     A  interface_eu_test\n",
       "6705  2BA8FA8754D1FE50     B  interface_eu_test"
      ]
     },
     "execution_count": 25,
     "metadata": {},
     "output_type": "execute_result"
    }
   ],
   "source": [
    "df_eu_test.reset_index(drop=True)\n",
    "df_eu_test.head()"
   ]
  },
  {
   "cell_type": "code",
   "execution_count": 26,
   "metadata": {
    "scrolled": false
   },
   "outputs": [
    {
     "data": {
      "text/html": [
       "<div>\n",
       "<style scoped>\n",
       "    .dataframe tbody tr th:only-of-type {\n",
       "        vertical-align: middle;\n",
       "    }\n",
       "\n",
       "    .dataframe tbody tr th {\n",
       "        vertical-align: top;\n",
       "    }\n",
       "\n",
       "    .dataframe thead th {\n",
       "        text-align: right;\n",
       "    }\n",
       "</style>\n",
       "<table border=\"1\" class=\"dataframe\">\n",
       "  <thead>\n",
       "    <tr style=\"text-align: right;\">\n",
       "      <th></th>\n",
       "      <th>user_id</th>\n",
       "      <th>event_dt</th>\n",
       "      <th>event_name</th>\n",
       "      <th>details</th>\n",
       "    </tr>\n",
       "  </thead>\n",
       "  <tbody>\n",
       "    <tr>\n",
       "      <th>0</th>\n",
       "      <td>E1BDDCE0DAFA2679</td>\n",
       "      <td>2020-12-07 20:22:03</td>\n",
       "      <td>purchase</td>\n",
       "      <td>99.99</td>\n",
       "    </tr>\n",
       "    <tr>\n",
       "      <th>1</th>\n",
       "      <td>7B6452F081F49504</td>\n",
       "      <td>2020-12-07 09:22:53</td>\n",
       "      <td>purchase</td>\n",
       "      <td>9.99</td>\n",
       "    </tr>\n",
       "    <tr>\n",
       "      <th>2</th>\n",
       "      <td>9CD9F34546DF254C</td>\n",
       "      <td>2020-12-07 12:59:29</td>\n",
       "      <td>purchase</td>\n",
       "      <td>4.99</td>\n",
       "    </tr>\n",
       "    <tr>\n",
       "      <th>3</th>\n",
       "      <td>96F27A054B191457</td>\n",
       "      <td>2020-12-07 04:02:40</td>\n",
       "      <td>purchase</td>\n",
       "      <td>4.99</td>\n",
       "    </tr>\n",
       "    <tr>\n",
       "      <th>4</th>\n",
       "      <td>1FD7660FDF94CA1F</td>\n",
       "      <td>2020-12-07 10:15:09</td>\n",
       "      <td>purchase</td>\n",
       "      <td>4.99</td>\n",
       "    </tr>\n",
       "  </tbody>\n",
       "</table>\n",
       "</div>"
      ],
      "text/plain": [
       "            user_id            event_dt event_name  details\n",
       "0  E1BDDCE0DAFA2679 2020-12-07 20:22:03   purchase    99.99\n",
       "1  7B6452F081F49504 2020-12-07 09:22:53   purchase     9.99\n",
       "2  9CD9F34546DF254C 2020-12-07 12:59:29   purchase     4.99\n",
       "3  96F27A054B191457 2020-12-07 04:02:40   purchase     4.99\n",
       "4  1FD7660FDF94CA1F 2020-12-07 10:15:09   purchase     4.99"
      ]
     },
     "execution_count": 26,
     "metadata": {},
     "output_type": "execute_result"
    }
   ],
   "source": [
    "df_ab_events.head()"
   ]
  },
  {
   "cell_type": "code",
   "execution_count": 27,
   "metadata": {},
   "outputs": [
    {
     "data": {
      "text/plain": [
       "440317"
      ]
     },
     "execution_count": 27,
     "metadata": {},
     "output_type": "execute_result"
    }
   ],
   "source": [
    "df_ab_events.shape[0]"
   ]
  },
  {
   "cell_type": "code",
   "execution_count": 28,
   "metadata": {},
   "outputs": [
    {
     "data": {
      "text/html": [
       "<div>\n",
       "<style scoped>\n",
       "    .dataframe tbody tr th:only-of-type {\n",
       "        vertical-align: middle;\n",
       "    }\n",
       "\n",
       "    .dataframe tbody tr th {\n",
       "        vertical-align: top;\n",
       "    }\n",
       "\n",
       "    .dataframe thead th {\n",
       "        text-align: right;\n",
       "    }\n",
       "</style>\n",
       "<table border=\"1\" class=\"dataframe\">\n",
       "  <thead>\n",
       "    <tr style=\"text-align: right;\">\n",
       "      <th></th>\n",
       "      <th>user_id</th>\n",
       "      <th>event_dt</th>\n",
       "      <th>event_name</th>\n",
       "      <th>details</th>\n",
       "    </tr>\n",
       "  </thead>\n",
       "  <tbody>\n",
       "    <tr>\n",
       "      <th>3</th>\n",
       "      <td>96F27A054B191457</td>\n",
       "      <td>2020-12-07 04:02:40</td>\n",
       "      <td>purchase</td>\n",
       "      <td>4.99</td>\n",
       "    </tr>\n",
       "    <tr>\n",
       "      <th>9</th>\n",
       "      <td>A92195E3CFB83DBD</td>\n",
       "      <td>2020-12-07 00:32:07</td>\n",
       "      <td>purchase</td>\n",
       "      <td>4.99</td>\n",
       "    </tr>\n",
       "    <tr>\n",
       "      <th>11</th>\n",
       "      <td>354D653172FF2A2D</td>\n",
       "      <td>2020-12-07 15:45:11</td>\n",
       "      <td>purchase</td>\n",
       "      <td>4.99</td>\n",
       "    </tr>\n",
       "    <tr>\n",
       "      <th>12</th>\n",
       "      <td>7FCD34F47C13A9AC</td>\n",
       "      <td>2020-12-07 22:06:13</td>\n",
       "      <td>purchase</td>\n",
       "      <td>9.99</td>\n",
       "    </tr>\n",
       "    <tr>\n",
       "      <th>13</th>\n",
       "      <td>0313C457F07C339E</td>\n",
       "      <td>2020-12-07 13:10:48</td>\n",
       "      <td>purchase</td>\n",
       "      <td>9.99</td>\n",
       "    </tr>\n",
       "    <tr>\n",
       "      <th>...</th>\n",
       "      <td>...</td>\n",
       "      <td>...</td>\n",
       "      <td>...</td>\n",
       "      <td>...</td>\n",
       "    </tr>\n",
       "    <tr>\n",
       "      <th>440286</th>\n",
       "      <td>5C31C0607EFC3C98</td>\n",
       "      <td>2020-12-30 01:56:08</td>\n",
       "      <td>login</td>\n",
       "      <td>NaN</td>\n",
       "    </tr>\n",
       "    <tr>\n",
       "      <th>440291</th>\n",
       "      <td>4584E51B99DE51AE</td>\n",
       "      <td>2020-12-30 07:39:32</td>\n",
       "      <td>login</td>\n",
       "      <td>NaN</td>\n",
       "    </tr>\n",
       "    <tr>\n",
       "      <th>440292</th>\n",
       "      <td>9DF4F595A906A0BA</td>\n",
       "      <td>2020-12-30 18:28:55</td>\n",
       "      <td>login</td>\n",
       "      <td>NaN</td>\n",
       "    </tr>\n",
       "    <tr>\n",
       "      <th>440311</th>\n",
       "      <td>6181F3835EBE66BF</td>\n",
       "      <td>2020-12-30 12:00:00</td>\n",
       "      <td>login</td>\n",
       "      <td>NaN</td>\n",
       "    </tr>\n",
       "    <tr>\n",
       "      <th>440315</th>\n",
       "      <td>F80C9BDDEA02E53C</td>\n",
       "      <td>2020-12-30 09:53:39</td>\n",
       "      <td>login</td>\n",
       "      <td>NaN</td>\n",
       "    </tr>\n",
       "  </tbody>\n",
       "</table>\n",
       "<p>81927 rows × 4 columns</p>\n",
       "</div>"
      ],
      "text/plain": [
       "                 user_id            event_dt event_name  details\n",
       "3       96F27A054B191457 2020-12-07 04:02:40   purchase     4.99\n",
       "9       A92195E3CFB83DBD 2020-12-07 00:32:07   purchase     4.99\n",
       "11      354D653172FF2A2D 2020-12-07 15:45:11   purchase     4.99\n",
       "12      7FCD34F47C13A9AC 2020-12-07 22:06:13   purchase     9.99\n",
       "13      0313C457F07C339E 2020-12-07 13:10:48   purchase     9.99\n",
       "...                  ...                 ...        ...      ...\n",
       "440286  5C31C0607EFC3C98 2020-12-30 01:56:08      login      NaN\n",
       "440291  4584E51B99DE51AE 2020-12-30 07:39:32      login      NaN\n",
       "440292  9DF4F595A906A0BA 2020-12-30 18:28:55      login      NaN\n",
       "440311  6181F3835EBE66BF 2020-12-30 12:00:00      login      NaN\n",
       "440315  F80C9BDDEA02E53C 2020-12-30 09:53:39      login      NaN\n",
       "\n",
       "[81927 rows x 4 columns]"
      ]
     },
     "execution_count": 28,
     "metadata": {},
     "output_type": "execute_result"
    }
   ],
   "source": [
    "#creating dataset with users, which are presented only in df_eu_test group\n",
    "events = df_ab_events[df_ab_events['user_id'].isin(df_eu_test.user_id)]\n",
    "events"
   ]
  },
  {
   "cell_type": "code",
   "execution_count": 29,
   "metadata": {
    "scrolled": false
   },
   "outputs": [
    {
     "data": {
      "text/html": [
       "<div>\n",
       "<style scoped>\n",
       "    .dataframe tbody tr th:only-of-type {\n",
       "        vertical-align: middle;\n",
       "    }\n",
       "\n",
       "    .dataframe tbody tr th {\n",
       "        vertical-align: top;\n",
       "    }\n",
       "\n",
       "    .dataframe thead th {\n",
       "        text-align: right;\n",
       "    }\n",
       "</style>\n",
       "<table border=\"1\" class=\"dataframe\">\n",
       "  <thead>\n",
       "    <tr style=\"text-align: right;\">\n",
       "      <th></th>\n",
       "      <th>user_id</th>\n",
       "      <th>event_dt</th>\n",
       "      <th>event_name</th>\n",
       "      <th>details</th>\n",
       "      <th>group</th>\n",
       "      <th>ab_test</th>\n",
       "    </tr>\n",
       "  </thead>\n",
       "  <tbody>\n",
       "    <tr>\n",
       "      <th>0</th>\n",
       "      <td>96F27A054B191457</td>\n",
       "      <td>2020-12-07 04:02:40</td>\n",
       "      <td>purchase</td>\n",
       "      <td>4.99</td>\n",
       "      <td>B</td>\n",
       "      <td>interface_eu_test</td>\n",
       "    </tr>\n",
       "    <tr>\n",
       "      <th>1</th>\n",
       "      <td>A92195E3CFB83DBD</td>\n",
       "      <td>2020-12-07 00:32:07</td>\n",
       "      <td>purchase</td>\n",
       "      <td>4.99</td>\n",
       "      <td>A</td>\n",
       "      <td>interface_eu_test</td>\n",
       "    </tr>\n",
       "    <tr>\n",
       "      <th>2</th>\n",
       "      <td>354D653172FF2A2D</td>\n",
       "      <td>2020-12-07 15:45:11</td>\n",
       "      <td>purchase</td>\n",
       "      <td>4.99</td>\n",
       "      <td>A</td>\n",
       "      <td>interface_eu_test</td>\n",
       "    </tr>\n",
       "    <tr>\n",
       "      <th>3</th>\n",
       "      <td>7FCD34F47C13A9AC</td>\n",
       "      <td>2020-12-07 22:06:13</td>\n",
       "      <td>purchase</td>\n",
       "      <td>9.99</td>\n",
       "      <td>B</td>\n",
       "      <td>interface_eu_test</td>\n",
       "    </tr>\n",
       "    <tr>\n",
       "      <th>4</th>\n",
       "      <td>0313C457F07C339E</td>\n",
       "      <td>2020-12-07 13:10:48</td>\n",
       "      <td>purchase</td>\n",
       "      <td>9.99</td>\n",
       "      <td>A</td>\n",
       "      <td>interface_eu_test</td>\n",
       "    </tr>\n",
       "  </tbody>\n",
       "</table>\n",
       "</div>"
      ],
      "text/plain": [
       "            user_id            event_dt event_name  details group  \\\n",
       "0  96F27A054B191457 2020-12-07 04:02:40   purchase     4.99     B   \n",
       "1  A92195E3CFB83DBD 2020-12-07 00:32:07   purchase     4.99     A   \n",
       "2  354D653172FF2A2D 2020-12-07 15:45:11   purchase     4.99     A   \n",
       "3  7FCD34F47C13A9AC 2020-12-07 22:06:13   purchase     9.99     B   \n",
       "4  0313C457F07C339E 2020-12-07 13:10:48   purchase     9.99     A   \n",
       "\n",
       "             ab_test  \n",
       "0  interface_eu_test  \n",
       "1  interface_eu_test  \n",
       "2  interface_eu_test  \n",
       "3  interface_eu_test  \n",
       "4  interface_eu_test  "
      ]
     },
     "execution_count": 29,
     "metadata": {},
     "output_type": "execute_result"
    }
   ],
   "source": [
    "#merging 2 tables to get full information on a/b testing groups in one dataset\n",
    "df_new = events.merge(df_eu_test, on='user_id', how='left')\n",
    "df_new.head()"
   ]
  },
  {
   "cell_type": "markdown",
   "metadata": {},
   "source": [
    "Let's calculate the number of users at each stage of the funnel"
   ]
  },
  {
   "cell_type": "code",
   "execution_count": 30,
   "metadata": {
    "scrolled": true
   },
   "outputs": [
    {
     "data": {
      "text/plain": [
       "login           35145\n",
       "product_page    23095\n",
       "purchase        12085\n",
       "product_cart    11602\n",
       "Name: event_name, dtype: int64"
      ]
     },
     "execution_count": 30,
     "metadata": {},
     "output_type": "execute_result"
    }
   ],
   "source": [
    "df_new.event_name.value_counts()"
   ]
  },
  {
   "cell_type": "markdown",
   "metadata": {},
   "source": [
    "Tech description says that the funnel = product_page → product_cart → purchase. We also know that users don't have to go to each stage in a specific sequence, as there is a button that redirects a user straight to the purchase page. This is a reason why we got more users on purchase than on the product_cart page. \n",
    "\n",
    "Next, I'll calculate the conversion on each stage fot both groups."
   ]
  },
  {
   "cell_type": "code",
   "execution_count": 31,
   "metadata": {},
   "outputs": [],
   "source": [
    "#creating 2 datsets for both groups\n",
    "group_A = df_new[df_new['group'] == \"A\"]\n",
    "group_B = df_new[df_new['group'] == \"B\"]"
   ]
  },
  {
   "cell_type": "code",
   "execution_count": 32,
   "metadata": {},
   "outputs": [
    {
     "data": {
      "text/html": [
       "<style  type=\"text/css\" >\n",
       "</style><table id=\"T_6e0bc702_490f_11eb_a889_bc8385d99ff4\" ><thead>    <tr>        <th class=\"col_heading level0 col0\" >event_name</th>        <th class=\"col_heading level0 col1\" >user_id</th>        <th class=\"col_heading level0 col2\" >conversion</th>    </tr></thead><tbody>\n",
       "                <tr>\n",
       "                                <td id=\"T_6e0bc702_490f_11eb_a889_bc8385d99ff4row0_col0\" class=\"data row0 col0\" >login</td>\n",
       "                        <td id=\"T_6e0bc702_490f_11eb_a889_bc8385d99ff4row0_col1\" class=\"data row0 col1\" >5466</td>\n",
       "                        <td id=\"T_6e0bc702_490f_11eb_a889_bc8385d99ff4row0_col2\" class=\"data row0 col2\" >99.98%</td>\n",
       "            </tr>\n",
       "            <tr>\n",
       "                                <td id=\"T_6e0bc702_490f_11eb_a889_bc8385d99ff4row1_col0\" class=\"data row1 col0\" >product_page</td>\n",
       "                        <td id=\"T_6e0bc702_490f_11eb_a889_bc8385d99ff4row1_col1\" class=\"data row1 col1\" >3639</td>\n",
       "                        <td id=\"T_6e0bc702_490f_11eb_a889_bc8385d99ff4row1_col2\" class=\"data row1 col2\" >66.56%</td>\n",
       "            </tr>\n",
       "            <tr>\n",
       "                                <td id=\"T_6e0bc702_490f_11eb_a889_bc8385d99ff4row2_col0\" class=\"data row2 col0\" >purchase</td>\n",
       "                        <td id=\"T_6e0bc702_490f_11eb_a889_bc8385d99ff4row2_col1\" class=\"data row2 col1\" >1931</td>\n",
       "                        <td id=\"T_6e0bc702_490f_11eb_a889_bc8385d99ff4row2_col2\" class=\"data row2 col2\" >35.32%</td>\n",
       "            </tr>\n",
       "            <tr>\n",
       "                                <td id=\"T_6e0bc702_490f_11eb_a889_bc8385d99ff4row3_col0\" class=\"data row3 col0\" >product_cart</td>\n",
       "                        <td id=\"T_6e0bc702_490f_11eb_a889_bc8385d99ff4row3_col1\" class=\"data row3 col1\" >1756</td>\n",
       "                        <td id=\"T_6e0bc702_490f_11eb_a889_bc8385d99ff4row3_col2\" class=\"data row3 col2\" >32.12%</td>\n",
       "            </tr>\n",
       "    </tbody></table>"
      ],
      "text/plain": [
       "<pandas.io.formats.style.Styler at 0x1f6a3121788>"
      ]
     },
     "execution_count": 32,
     "metadata": {},
     "output_type": "execute_result"
    }
   ],
   "source": [
    "#conversion for group A\n",
    "conversion_A=group_A.groupby(['event_name'])['user_id'].nunique().reset_index().sort_values(by='user_id',ascending=False)\n",
    "conversion_A['conversion']=conversion_A['user_id'] / group_A.user_id.nunique()\n",
    "conversion_A.style.format({'conversion': \"{:.2%}\"}).hide_index()"
   ]
  },
  {
   "cell_type": "code",
   "execution_count": 33,
   "metadata": {},
   "outputs": [
    {
     "data": {
      "text/html": [
       "<style  type=\"text/css\" >\n",
       "</style><table id=\"T_6e21baac_490f_11eb_9ec4_bc8385d99ff4\" ><thead>    <tr>        <th class=\"col_heading level0 col0\" >event_name</th>        <th class=\"col_heading level0 col1\" >user_id</th>        <th class=\"col_heading level0 col2\" >conversion</th>    </tr></thead><tbody>\n",
       "                <tr>\n",
       "                                <td id=\"T_6e21baac_490f_11eb_9ec4_bc8385d99ff4row0_col0\" class=\"data row0 col0\" >login</td>\n",
       "                        <td id=\"T_6e21baac_490f_11eb_9ec4_bc8385d99ff4row0_col1\" class=\"data row0 col1\" >5383</td>\n",
       "                        <td id=\"T_6e21baac_490f_11eb_9ec4_bc8385d99ff4row0_col2\" class=\"data row0 col2\" >100.00%</td>\n",
       "            </tr>\n",
       "            <tr>\n",
       "                                <td id=\"T_6e21baac_490f_11eb_9ec4_bc8385d99ff4row1_col0\" class=\"data row1 col0\" >product_page</td>\n",
       "                        <td id=\"T_6e21baac_490f_11eb_9ec4_bc8385d99ff4row1_col1\" class=\"data row1 col1\" >3527</td>\n",
       "                        <td id=\"T_6e21baac_490f_11eb_9ec4_bc8385d99ff4row1_col2\" class=\"data row1 col2\" >65.52%</td>\n",
       "            </tr>\n",
       "            <tr>\n",
       "                                <td id=\"T_6e21baac_490f_11eb_9ec4_bc8385d99ff4row2_col0\" class=\"data row2 col0\" >product_cart</td>\n",
       "                        <td id=\"T_6e21baac_490f_11eb_9ec4_bc8385d99ff4row2_col1\" class=\"data row2 col1\" >1812</td>\n",
       "                        <td id=\"T_6e21baac_490f_11eb_9ec4_bc8385d99ff4row2_col2\" class=\"data row2 col2\" >33.66%</td>\n",
       "            </tr>\n",
       "            <tr>\n",
       "                                <td id=\"T_6e21baac_490f_11eb_9ec4_bc8385d99ff4row3_col0\" class=\"data row3 col0\" >purchase</td>\n",
       "                        <td id=\"T_6e21baac_490f_11eb_9ec4_bc8385d99ff4row3_col1\" class=\"data row3 col1\" >1782</td>\n",
       "                        <td id=\"T_6e21baac_490f_11eb_9ec4_bc8385d99ff4row3_col2\" class=\"data row3 col2\" >33.10%</td>\n",
       "            </tr>\n",
       "    </tbody></table>"
      ],
      "text/plain": [
       "<pandas.io.formats.style.Styler at 0x1f69cf8ee08>"
      ]
     },
     "execution_count": 33,
     "metadata": {},
     "output_type": "execute_result"
    }
   ],
   "source": [
    "#conversion for group B\n",
    "conversion_B = group_B.groupby(['event_name'])['user_id'].nunique().reset_index().sort_values(by='user_id',ascending=False)\n",
    "conversion_B['conversion']=conversion_B['user_id'] / group_B.user_id.nunique()\n",
    "conversion_B.style.format({'conversion': \"{:.2%}\"}).hide_index()"
   ]
  },
  {
   "cell_type": "markdown",
   "metadata": {},
   "source": [
    "We see that conversion for all events are more or less the same. My next step will be to use a z-test to check the statistical difference between the proportions."
   ]
  },
  {
   "cell_type": "markdown",
   "metadata": {},
   "source": [
    "<a id='samples'></a>"
   ]
  },
  {
   "cell_type": "markdown",
   "metadata": {},
   "source": [
    "**Is the number of events per user distributed equally among the samples?**"
   ]
  },
  {
   "cell_type": "code",
   "execution_count": 34,
   "metadata": {
    "scrolled": true
   },
   "outputs": [
    {
     "data": {
      "text/html": [
       "<div>\n",
       "<style scoped>\n",
       "    .dataframe tbody tr th:only-of-type {\n",
       "        vertical-align: middle;\n",
       "    }\n",
       "\n",
       "    .dataframe tbody tr th {\n",
       "        vertical-align: top;\n",
       "    }\n",
       "\n",
       "    .dataframe thead th {\n",
       "        text-align: right;\n",
       "    }\n",
       "</style>\n",
       "<table border=\"1\" class=\"dataframe\">\n",
       "  <thead>\n",
       "    <tr style=\"text-align: right;\">\n",
       "      <th>group</th>\n",
       "      <th>event_name</th>\n",
       "      <th>A</th>\n",
       "      <th>B</th>\n",
       "    </tr>\n",
       "  </thead>\n",
       "  <tbody>\n",
       "    <tr>\n",
       "      <th>0</th>\n",
       "      <td>login</td>\n",
       "      <td>5466</td>\n",
       "      <td>5383</td>\n",
       "    </tr>\n",
       "    <tr>\n",
       "      <th>1</th>\n",
       "      <td>product_cart</td>\n",
       "      <td>1756</td>\n",
       "      <td>1812</td>\n",
       "    </tr>\n",
       "    <tr>\n",
       "      <th>2</th>\n",
       "      <td>product_page</td>\n",
       "      <td>3639</td>\n",
       "      <td>3527</td>\n",
       "    </tr>\n",
       "    <tr>\n",
       "      <th>3</th>\n",
       "      <td>purchase</td>\n",
       "      <td>1931</td>\n",
       "      <td>1782</td>\n",
       "    </tr>\n",
       "  </tbody>\n",
       "</table>\n",
       "</div>"
      ],
      "text/plain": [
       "group    event_name     A     B\n",
       "0             login  5466  5383\n",
       "1      product_cart  1756  1812\n",
       "2      product_page  3639  3527\n",
       "3          purchase  1931  1782"
      ]
     },
     "execution_count": 34,
     "metadata": {},
     "output_type": "execute_result"
    }
   ],
   "source": [
    "df_new = df_new.astype({'event_name': 'object', 'group': 'object'})\n",
    "pivot = df_new.pivot_table(index='event_name', values='user_id', columns='group', aggfunc=lambda x: x.nunique()).reset_index()\n",
    "pivot"
   ]
  },
  {
   "cell_type": "markdown",
   "metadata": {},
   "source": [
    "We see that there's no significant differentce between control group and test group."
   ]
  },
  {
   "cell_type": "markdown",
   "metadata": {},
   "source": [
    "**Are there users who are present in both samples?**"
   ]
  },
  {
   "cell_type": "code",
   "execution_count": 35,
   "metadata": {
    "scrolled": true
   },
   "outputs": [
    {
     "data": {
      "text/html": [
       "<div>\n",
       "<style scoped>\n",
       "    .dataframe tbody tr th:only-of-type {\n",
       "        vertical-align: middle;\n",
       "    }\n",
       "\n",
       "    .dataframe tbody tr th {\n",
       "        vertical-align: top;\n",
       "    }\n",
       "\n",
       "    .dataframe thead th {\n",
       "        text-align: right;\n",
       "    }\n",
       "</style>\n",
       "<table border=\"1\" class=\"dataframe\">\n",
       "  <thead>\n",
       "    <tr style=\"text-align: right;\">\n",
       "      <th></th>\n",
       "      <th>user_id</th>\n",
       "      <th>group</th>\n",
       "    </tr>\n",
       "  </thead>\n",
       "  <tbody>\n",
       "    <tr>\n",
       "      <th>0</th>\n",
       "      <td>FFF58BC33966EB51</td>\n",
       "      <td>1</td>\n",
       "    </tr>\n",
       "    <tr>\n",
       "      <th>1</th>\n",
       "      <td>FFF28D02B1EACBE1</td>\n",
       "      <td>1</td>\n",
       "    </tr>\n",
       "    <tr>\n",
       "      <th>2</th>\n",
       "      <td>FFEFC0E55C1CCD4F</td>\n",
       "      <td>1</td>\n",
       "    </tr>\n",
       "    <tr>\n",
       "      <th>3</th>\n",
       "      <td>FFE7FC140521F5F6</td>\n",
       "      <td>1</td>\n",
       "    </tr>\n",
       "    <tr>\n",
       "      <th>4</th>\n",
       "      <td>FFE600EEC4BA7685</td>\n",
       "      <td>1</td>\n",
       "    </tr>\n",
       "  </tbody>\n",
       "</table>\n",
       "</div>"
      ],
      "text/plain": [
       "            user_id  group\n",
       "0  FFF58BC33966EB51      1\n",
       "1  FFF28D02B1EACBE1      1\n",
       "2  FFEFC0E55C1CCD4F      1\n",
       "3  FFE7FC140521F5F6      1\n",
       "4  FFE600EEC4BA7685      1"
      ]
     },
     "execution_count": 35,
     "metadata": {},
     "output_type": "execute_result"
    }
   ],
   "source": [
    "#checking if we have users that got into 2 groups\n",
    "user_group = df_new.groupby('user_id').agg({'group': 'nunique'}).sort_values(by='user_id', ascending=False).reset_index()\n",
    "user_group.head(5)"
   ]
  },
  {
   "cell_type": "code",
   "execution_count": 36,
   "metadata": {},
   "outputs": [
    {
     "data": {
      "text/plain": [
       "1    10850\n",
       "Name: group, dtype: int64"
      ]
     },
     "execution_count": 36,
     "metadata": {},
     "output_type": "execute_result"
    }
   ],
   "source": [
    "user_group.group.value_counts()"
   ]
  },
  {
   "cell_type": "markdown",
   "metadata": {},
   "source": [
    "There're no users that got into 2 groups"
   ]
  },
  {
   "cell_type": "markdown",
   "metadata": {},
   "source": [
    "<a id='days'></a>"
   ]
  },
  {
   "cell_type": "markdown",
   "metadata": {},
   "source": [
    "**How is the number of events distributed among days?**"
   ]
  },
  {
   "cell_type": "code",
   "execution_count": 37,
   "metadata": {},
   "outputs": [
    {
     "data": {
      "text/html": [
       "<div>\n",
       "<style scoped>\n",
       "    .dataframe tbody tr th:only-of-type {\n",
       "        vertical-align: middle;\n",
       "    }\n",
       "\n",
       "    .dataframe tbody tr th {\n",
       "        vertical-align: top;\n",
       "    }\n",
       "\n",
       "    .dataframe thead th {\n",
       "        text-align: right;\n",
       "    }\n",
       "</style>\n",
       "<table border=\"1\" class=\"dataframe\">\n",
       "  <thead>\n",
       "    <tr style=\"text-align: right;\">\n",
       "      <th></th>\n",
       "      <th>user_id</th>\n",
       "      <th>event_dt</th>\n",
       "      <th>event_name</th>\n",
       "      <th>details</th>\n",
       "      <th>group</th>\n",
       "      <th>ab_test</th>\n",
       "      <th>day</th>\n",
       "    </tr>\n",
       "  </thead>\n",
       "  <tbody>\n",
       "    <tr>\n",
       "      <th>0</th>\n",
       "      <td>96F27A054B191457</td>\n",
       "      <td>2020-12-07 04:02:40</td>\n",
       "      <td>purchase</td>\n",
       "      <td>4.99</td>\n",
       "      <td>B</td>\n",
       "      <td>interface_eu_test</td>\n",
       "      <td>0</td>\n",
       "    </tr>\n",
       "    <tr>\n",
       "      <th>1</th>\n",
       "      <td>A92195E3CFB83DBD</td>\n",
       "      <td>2020-12-07 00:32:07</td>\n",
       "      <td>purchase</td>\n",
       "      <td>4.99</td>\n",
       "      <td>A</td>\n",
       "      <td>interface_eu_test</td>\n",
       "      <td>0</td>\n",
       "    </tr>\n",
       "  </tbody>\n",
       "</table>\n",
       "</div>"
      ],
      "text/plain": [
       "            user_id            event_dt event_name  details group  \\\n",
       "0  96F27A054B191457 2020-12-07 04:02:40   purchase     4.99     B   \n",
       "1  A92195E3CFB83DBD 2020-12-07 00:32:07   purchase     4.99     A   \n",
       "\n",
       "             ab_test  day  \n",
       "0  interface_eu_test    0  \n",
       "1  interface_eu_test    0  "
      ]
     },
     "execution_count": 37,
     "metadata": {},
     "output_type": "execute_result"
    }
   ],
   "source": [
    "df_new['day'] = df_new['event_dt'].dt.dayofweek\n",
    "df_new.head(2)"
   ]
  },
  {
   "cell_type": "code",
   "execution_count": 38,
   "metadata": {
    "scrolled": false
   },
   "outputs": [
    {
     "data": {
      "text/html": [
       "<style  type=\"text/css\" >\n",
       "</style><table id=\"T_6e734bae_490f_11eb_86c0_bc8385d99ff4\" ><thead>    <tr>        <th class=\"col_heading level0 col0\" >day</th>        <th class=\"col_heading level0 col1\" >event_dt</th>        <th class=\"col_heading level0 col2\" >share</th>    </tr></thead><tbody>\n",
       "                <tr>\n",
       "                                <td id=\"T_6e734bae_490f_11eb_86c0_bc8385d99ff4row0_col0\" class=\"data row0 col0\" >0</td>\n",
       "                        <td id=\"T_6e734bae_490f_11eb_86c0_bc8385d99ff4row0_col1\" class=\"data row0 col1\" >15037</td>\n",
       "                        <td id=\"T_6e734bae_490f_11eb_86c0_bc8385d99ff4row0_col2\" class=\"data row0 col2\" >18.35%</td>\n",
       "            </tr>\n",
       "            <tr>\n",
       "                                <td id=\"T_6e734bae_490f_11eb_86c0_bc8385d99ff4row1_col0\" class=\"data row1 col0\" >1</td>\n",
       "                        <td id=\"T_6e734bae_490f_11eb_86c0_bc8385d99ff4row1_col1\" class=\"data row1 col1\" >13769</td>\n",
       "                        <td id=\"T_6e734bae_490f_11eb_86c0_bc8385d99ff4row1_col2\" class=\"data row1 col2\" >16.81%</td>\n",
       "            </tr>\n",
       "            <tr>\n",
       "                                <td id=\"T_6e734bae_490f_11eb_86c0_bc8385d99ff4row2_col0\" class=\"data row2 col0\" >2</td>\n",
       "                        <td id=\"T_6e734bae_490f_11eb_86c0_bc8385d99ff4row2_col1\" class=\"data row2 col1\" >11272</td>\n",
       "                        <td id=\"T_6e734bae_490f_11eb_86c0_bc8385d99ff4row2_col2\" class=\"data row2 col2\" >13.76%</td>\n",
       "            </tr>\n",
       "            <tr>\n",
       "                                <td id=\"T_6e734bae_490f_11eb_86c0_bc8385d99ff4row3_col0\" class=\"data row3 col0\" >3</td>\n",
       "                        <td id=\"T_6e734bae_490f_11eb_86c0_bc8385d99ff4row3_col1\" class=\"data row3 col1\" >10356</td>\n",
       "                        <td id=\"T_6e734bae_490f_11eb_86c0_bc8385d99ff4row3_col2\" class=\"data row3 col2\" >12.64%</td>\n",
       "            </tr>\n",
       "            <tr>\n",
       "                                <td id=\"T_6e734bae_490f_11eb_86c0_bc8385d99ff4row4_col0\" class=\"data row4 col0\" >4</td>\n",
       "                        <td id=\"T_6e734bae_490f_11eb_86c0_bc8385d99ff4row4_col1\" class=\"data row4 col1\" >9820</td>\n",
       "                        <td id=\"T_6e734bae_490f_11eb_86c0_bc8385d99ff4row4_col2\" class=\"data row4 col2\" >11.99%</td>\n",
       "            </tr>\n",
       "            <tr>\n",
       "                                <td id=\"T_6e734bae_490f_11eb_86c0_bc8385d99ff4row5_col0\" class=\"data row5 col0\" >5</td>\n",
       "                        <td id=\"T_6e734bae_490f_11eb_86c0_bc8385d99ff4row5_col1\" class=\"data row5 col1\" >10475</td>\n",
       "                        <td id=\"T_6e734bae_490f_11eb_86c0_bc8385d99ff4row5_col2\" class=\"data row5 col2\" >12.79%</td>\n",
       "            </tr>\n",
       "            <tr>\n",
       "                                <td id=\"T_6e734bae_490f_11eb_86c0_bc8385d99ff4row6_col0\" class=\"data row6 col0\" >6</td>\n",
       "                        <td id=\"T_6e734bae_490f_11eb_86c0_bc8385d99ff4row6_col1\" class=\"data row6 col1\" >11198</td>\n",
       "                        <td id=\"T_6e734bae_490f_11eb_86c0_bc8385d99ff4row6_col2\" class=\"data row6 col2\" >13.67%</td>\n",
       "            </tr>\n",
       "    </tbody></table>"
      ],
      "text/plain": [
       "<pandas.io.formats.style.Styler at 0x1f6a4c5ce08>"
      ]
     },
     "execution_count": 38,
     "metadata": {},
     "output_type": "execute_result"
    }
   ],
   "source": [
    "day = df_new.pivot_table(index=['day'], values='event_dt', aggfunc='count').sort_values(by='day').reset_index()\n",
    "day['share'] = day['event_dt'] / df_new.event_dt.count()\n",
    "day[['day', 'event_dt', 'share']].style.format({'share': \"{:.2%}\"}).hide_index()"
   ]
  },
  {
   "cell_type": "markdown",
   "metadata": {},
   "source": [
    "We see that biggest amount of events falls for Monday(0) = 18.35% and less amount for Friday(4) = 11.99%\n",
    "I will also plot a graph to see the distribution of events per days."
   ]
  },
  {
   "cell_type": "code",
   "execution_count": 39,
   "metadata": {},
   "outputs": [],
   "source": [
    "#get only date from datetime\n",
    "df_new['event_date'] = df_new['event_dt'].dt.date"
   ]
  },
  {
   "cell_type": "code",
   "execution_count": 40,
   "metadata": {},
   "outputs": [
    {
     "data": {
      "text/html": [
       "<div>\n",
       "<style scoped>\n",
       "    .dataframe tbody tr th:only-of-type {\n",
       "        vertical-align: middle;\n",
       "    }\n",
       "\n",
       "    .dataframe tbody tr th {\n",
       "        vertical-align: top;\n",
       "    }\n",
       "\n",
       "    .dataframe thead th {\n",
       "        text-align: right;\n",
       "    }\n",
       "</style>\n",
       "<table border=\"1\" class=\"dataframe\">\n",
       "  <thead>\n",
       "    <tr style=\"text-align: right;\">\n",
       "      <th></th>\n",
       "      <th>event_date</th>\n",
       "      <th>user_id</th>\n",
       "    </tr>\n",
       "  </thead>\n",
       "  <tbody>\n",
       "    <tr>\n",
       "      <th>0</th>\n",
       "      <td>2020-12-07</td>\n",
       "      <td>2068</td>\n",
       "    </tr>\n",
       "    <tr>\n",
       "      <th>1</th>\n",
       "      <td>2020-12-08</td>\n",
       "      <td>2311</td>\n",
       "    </tr>\n",
       "    <tr>\n",
       "      <th>2</th>\n",
       "      <td>2020-12-09</td>\n",
       "      <td>2333</td>\n",
       "    </tr>\n",
       "    <tr>\n",
       "      <th>3</th>\n",
       "      <td>2020-12-10</td>\n",
       "      <td>2551</td>\n",
       "    </tr>\n",
       "    <tr>\n",
       "      <th>4</th>\n",
       "      <td>2020-12-11</td>\n",
       "      <td>2603</td>\n",
       "    </tr>\n",
       "  </tbody>\n",
       "</table>\n",
       "</div>"
      ],
      "text/plain": [
       "   event_date  user_id\n",
       "0  2020-12-07     2068\n",
       "1  2020-12-08     2311\n",
       "2  2020-12-09     2333\n",
       "3  2020-12-10     2551\n",
       "4  2020-12-11     2603"
      ]
     },
     "execution_count": 40,
     "metadata": {},
     "output_type": "execute_result"
    }
   ],
   "source": [
    "dates = df_new.groupby('event_date')['user_id'].count().reset_index()\n",
    "dates.head()"
   ]
  },
  {
   "cell_type": "code",
   "execution_count": 41,
   "metadata": {
    "scrolled": false
   },
   "outputs": [
    {
     "data": {
      "image/png": "[encoded data removed]",
      "text/plain": [
       "<Figure size 1080x360 with 1 Axes>"
      ]
     },
     "metadata": {
      "needs_background": "light"
     },
     "output_type": "display_data"
    }
   ],
   "source": [
    "# plotting a histogram by date \n",
    "# set figure size\n",
    "plt.figure(figsize=(15,5))\n",
    "\n",
    "# plotting bar graph\n",
    "ax = sns.barplot(x='event_date', y='user_id', data=dates, palette=['green'])\n",
    "plt.xticks(rotation=90)\n",
    "\n",
    "# naming graph\n",
    "ax.set_title('Distribution of events by dates', fontsize=15)\n",
    "plt.xlabel('Date', fontsize=12)\n",
    "plt.ylabel('Events', fontsize=12);"
   ]
  },
  {
   "cell_type": "markdown",
   "metadata": {},
   "source": [
    "We see that events presented at each day and we have a pick during 2020-12-22 - 2020-12-23. It could be because users were looking for Christmas gifts and demand on purchases increased."
   ]
  },
  {
   "cell_type": "markdown",
   "metadata": {},
   "source": [
    "<a id='perc'></a>"
   ]
  },
  {
   "cell_type": "markdown",
   "metadata": {},
   "source": [
    "**Are there any peculiarities in the data that you have to take into account before starting the A/B test?**"
   ]
  },
  {
   "cell_type": "markdown",
   "metadata": {},
   "source": [
    "I didn't find any peculiarities in the data, as:\n",
    "- we don't have users that were  assigned to both tests\n",
    "- users were split equally\n",
    "\n",
    "But I'd say that running the A/B test during the National holidays could lead to results different from those, that we would get during regular days, as users could behave differently during holidays."
   ]
  },
  {
   "cell_type": "markdown",
   "metadata": {},
   "source": [
    "<a id='test'></a>"
   ]
  },
  {
   "cell_type": "markdown",
   "metadata": {},
   "source": [
    "**Use a z-test to check the statistical difference between the proportions.**"
   ]
  },
  {
   "cell_type": "markdown",
   "metadata": {},
   "source": [
    "1. Let's check whether control group and test group are significantly different.\n",
    "2. Let's formulate hypothesis. Null hypothesis Ho: proportions of the groups A and B are equal. Alternative hypothesis H1: proportions of the groups A and B are different.\n",
    "3. Alpha = 0.05."
   ]
  },
  {
   "cell_type": "code",
   "execution_count": 42,
   "metadata": {},
   "outputs": [
    {
     "data": {
      "text/html": [
       "<style  type=\"text/css\" >\n",
       "</style><table id=\"T_6f7d6934_490f_11eb_8b59_bc8385d99ff4\" ><thead>    <tr>        <th class=\"col_heading level0 col0\" >group</th>        <th class=\"col_heading level0 col1\" >user_id</th>        <th class=\"col_heading level0 col2\" >share</th>    </tr></thead><tbody>\n",
       "                <tr>\n",
       "                                <td id=\"T_6f7d6934_490f_11eb_8b59_bc8385d99ff4row0_col0\" class=\"data row0 col0\" >A</td>\n",
       "                        <td id=\"T_6f7d6934_490f_11eb_8b59_bc8385d99ff4row0_col1\" class=\"data row0 col1\" >5467</td>\n",
       "                        <td id=\"T_6f7d6934_490f_11eb_8b59_bc8385d99ff4row0_col2\" class=\"data row0 col2\" >50.39%</td>\n",
       "            </tr>\n",
       "            <tr>\n",
       "                                <td id=\"T_6f7d6934_490f_11eb_8b59_bc8385d99ff4row1_col0\" class=\"data row1 col0\" >B</td>\n",
       "                        <td id=\"T_6f7d6934_490f_11eb_8b59_bc8385d99ff4row1_col1\" class=\"data row1 col1\" >5383</td>\n",
       "                        <td id=\"T_6f7d6934_490f_11eb_8b59_bc8385d99ff4row1_col2\" class=\"data row1 col2\" >49.61%</td>\n",
       "            </tr>\n",
       "    </tbody></table>"
      ],
      "text/plain": [
       "<pandas.io.formats.style.Styler at 0x1f6a8922cc8>"
      ]
     },
     "execution_count": 42,
     "metadata": {},
     "output_type": "execute_result"
    }
   ],
   "source": [
    "#how many users is each group\n",
    "users_number = df_new.groupby('group').user_id.nunique().reset_index()\n",
    "users_number['share'] = users_number['user_id'] / df_new.user_id.nunique()\n",
    "users_number[['group', 'user_id', 'share']].style.format({'share': \"{:.2%}\"}).hide_index()"
   ]
  },
  {
   "cell_type": "code",
   "execution_count": 43,
   "metadata": {
    "scrolled": true
   },
   "outputs": [
    {
     "name": "stdout",
     "output_type": "stream",
     "text": [
      "p-value:  0.25409541110640776\n",
      "Fail to Reject H0: there is no reason to consider the proportions are different\n"
     ]
    }
   ],
   "source": [
    "#number of successes in each group\n",
    "successes1=users_number['user_id'].iloc[0]\n",
    "successes2=users_number['user_id'].iloc[1]\n",
    "    \n",
    "# calculating trials \n",
    "trials=df_new.user_id.nunique()\n",
    "    \n",
    "alpha = .05    \n",
    "    \n",
    "#proportion for success in the first group\n",
    "p1 = successes1/trials\n",
    "\n",
    "#proportion for success in the second group\n",
    "p2 = successes2/trials\n",
    "\n",
    "# proportion in a combined dataset\n",
    "p_combined = (successes1 + successes2) / (trials + trials)\n",
    " \n",
    "difference = p1 - p2    \n",
    "z_value = difference / math.sqrt(p_combined * (1 - p_combined) * (1/trials + 1/trials)) \n",
    "distr = st.norm(0, 1) \n",
    "p_value = (1 - distr.cdf(abs(z_value))) * 2\n",
    "\n",
    "print('p-value: ', p_value)\n",
    "\n",
    "if (p_value < alpha):\n",
    "    print(\"Reject H0: there is no significant diffrence between the proportions\")\n",
    "else:\n",
    "    print(\"Fail to Reject H0: there is no reason to consider the proportions are different\")"
   ]
  },
  {
   "cell_type": "markdown",
   "metadata": {},
   "source": [
    "Conclusion: The z-test shows that there is no reason to consider the proportions are different."
   ]
  },
  {
   "cell_type": "markdown",
   "metadata": {},
   "source": [
    "Next step I'll repeat the procedure for all the events for both groups.\n",
    "\n",
    "I'll test the share of users in the groups for each event and use z-test of proportions for this.<br>\n",
    "Formulating hypothesis:<br>\n",
    "Null hypothesis H₀: The conversion (proportion) in group A is equal to conversion in group B.<br>\n",
    "Alternative hypothesis H₁: The conversion in group A is statistically different from group B.<br>\n",
    "Alpha = 0.05.<br>"
   ]
  },
  {
   "cell_type": "code",
   "execution_count": 44,
   "metadata": {},
   "outputs": [],
   "source": [
    "#creating function\n",
    "def check_hypothesis(group1,group2, event, alpha=0.05):\n",
    "    #let's start with successes, using \n",
    "    successes1=pivot[pivot.event_name==event][group1].iloc[0]\n",
    "    successes2=pivot[pivot.event_name==event][group2].iloc[0]\n",
    "    \n",
    "    #for trials go back to original df or used a pre-aggregated data\n",
    "    trials1=df_new[df_new.group==group1]['user_id'].nunique()\n",
    "    trials2=df_new[df_new.group==group2]['user_id'].nunique()\n",
    "    \n",
    "    #proportion for success in the first group\n",
    "    p1 = successes1/trials1\n",
    "    \n",
    "   #proportion for success in the second group\n",
    "    p2 = successes2/trials2\n",
    "\n",
    "    # proportion in a combined dataset\n",
    "    p_combined = (successes1 + successes2) / (trials1 + trials2)\n",
    "\n",
    "    difference = p1 - p2      \n",
    "    z_value = difference / math.sqrt(p_combined * (1 - p_combined) * (1/trials1 + 1/trials2)) \n",
    "    distr = st.norm(0, 1) \n",
    "    p_value = (1 - distr.cdf(abs(z_value))) * 2\n",
    "\n",
    "    print('p-value: ', p_value)\n",
    "\n",
    "    if (p_value < alpha):\n",
    "        print(\"Reject H0 for\",event, 'and groups',group1,group2)\n",
    "    else:\n",
    "        print(\"Fail to Reject H0 for\", event,'and groups',group1,group2)"
   ]
  },
  {
   "cell_type": "markdown",
   "metadata": {},
   "source": [
    "Let's conduct test of proportions to check whether the difference between the groups is statistically significant for purchase event."
   ]
  },
  {
   "cell_type": "code",
   "execution_count": 45,
   "metadata": {},
   "outputs": [
    {
     "name": "stdout",
     "output_type": "stream",
     "text": [
      "p-value:  0.014959088807690257\n",
      "Reject H0 for purchase and groups A B\n"
     ]
    }
   ],
   "source": [
    "check_hypothesis(\"A\",\"B\", 'purchase', alpha=0.05)"
   ]
  },
  {
   "cell_type": "markdown",
   "metadata": {},
   "source": [
    "Concludion: there's no statistically significant diffrence between proportions of purchase event in groups A and B.\n",
    "\n",
    "Next, I'll repeat the procedure for all other events."
   ]
  },
  {
   "cell_type": "code",
   "execution_count": 46,
   "metadata": {},
   "outputs": [
    {
     "name": "stdout",
     "output_type": "stream",
     "text": [
      "p-value:  0.32103485047255065\n",
      "Fail to Reject H0 for login and groups A B\n",
      "p-value:  0.08746918913258162\n",
      "Fail to Reject H0 for product_cart and groups A B\n",
      "p-value:  0.2518419682737163\n",
      "Fail to Reject H0 for product_page and groups A B\n",
      "p-value:  0.014959088807690257\n",
      "Reject H0 for purchase and groups A B\n"
     ]
    }
   ],
   "source": [
    "for i in pivot.event_name.unique():\n",
    "    check_hypothesis(\"A\",\"B\", i, alpha=0.05)"
   ]
  },
  {
   "cell_type": "markdown",
   "metadata": {},
   "source": [
    "Concludion: There is no statistical difference in conversion between samples A and B."
   ]
  },
  {
   "cell_type": "markdown",
   "metadata": {},
   "source": [
    "<a id='conclusion'></a>"
   ]
  },
  {
   "cell_type": "markdown",
   "metadata": {},
   "source": [
    "**Conclusions regarding the EDA stage and the A/B test results**"
   ]
  },
  {
   "cell_type": "markdown",
   "metadata": {},
   "source": [
    "- The `goal` of the analysis was to investigate user behavior for the international online store.\n",
    "- After studying the results of the experiment I didn't find any significant difference in convertion between A and B groups.\n",
    "- The test was running during the holidays, which could lead to results different from regular days. We saw spike on Christmas eve, which shows that holidays affected the demand for purchases."
   ]
  },
  {
   "cell_type": "code",
   "execution_count": null,
   "metadata": {},
   "outputs": [],
   "source": []
  }
 ],
 "metadata": {
  "kernelspec": {
   "display_name": "Python 3",
   "language": "python",
   "name": "python3"
  },
  "language_info": {
   "codemirror_mode": {
    "name": "ipython",
    "version": 3
   },
   "file_extension": ".py",
   "mimetype": "text/x-python",
   "name": "python",
   "nbconvert_exporter": "python",
   "pygments_lexer": "ipython3",
   "version": "3.7.6"
  }
 },
 "nbformat": 4,
 "nbformat_minor": 4
}
